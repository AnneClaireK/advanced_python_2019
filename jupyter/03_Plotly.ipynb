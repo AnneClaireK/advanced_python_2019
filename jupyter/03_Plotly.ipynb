{
 "cells": [
  {
   "cell_type": "code",
   "execution_count": null,
   "metadata": {
    "slideshow": {
     "slide_type": "notes"
    }
   },
   "outputs": [],
   "source": [
    "# %load topics.py\n",
    "import pandas as pd\n",
    "import psutil\n",
    "\n",
    "pd.set_option(\"display.max_colwidth\" , 300)\n",
    "\n",
    "df_high_level = pd.DataFrame(\n",
    "    data=[\n",
    "        {'day': 'Monday', 'Topic': 'Check-In, recaps and functions'},\n",
    "        {'day': 'Tuesday', 'Topic': 'Coding philosophy, data flow and some more useful std modules'},\n",
    "        {'day': 'Wednesday', 'Topic': 'Test driven development, python module, sphinx'},\n",
    "        {'day': 'Thursday', 'Topic': 'OOP - Object oriented programming'},\n",
    "        {'day': 'Friday', 'Topic': 'Q&A and code clean up'},\n",
    "        {'day': '', 'Topic': ''},\n",
    "        {'day': 'Monday', 'Topic': ''},\n",
    "        {'day': 'Tuesday', 'Topic': ''},\n",
    "        {'day': 'Wednesday', 'Topic': ''},\n",
    "        {'day': 'Thursday', 'Topic': ''},\n",
    "        {'day': 'Friday', 'Topic': 'Q&A and Tutorium'},\n",
    "\n",
    "\n",
    "    ]\n",
    ")\n",
    "\n",
    "df_details = pd.DataFrame(\n",
    "    data=[\n",
    "        {'day': 1, 'Topic': 'Check-in'},\n",
    "        {'day': 1, 'Topic': 'Procedural stuff'},\n",
    "        {'day': 1, 'Topic': \"python basic in 5'\"},\n",
    "        {'day': 1, 'Topic': 'lists and generators'},\n",
    "        {'day': 1, 'Topic': 'bisect module'},\n",
    "        # ----------------------------\n",
    "        {'day': 2, 'Topic': 'Functions'},\n",
    "        {'day': 2, 'Topic': 'Zen of Python and general coding philosophy'},\n",
    "        {'day': 2, 'Topic': 'csv module'},\n",
    "        {'day': 2, 'Topic': 'Collections module'},\n",
    "        {'day': 2, 'Topic': 'Exercises 1 & 2'},\n",
    "        # ----------------------------\n",
    "        {'day': 3, 'Topic': 'Discussion of Excercises 1 & 2'},\n",
    "        {'day': 3, 'Topic': 'Basic plotting with plotly'},\n",
    "        {'day': 3, 'Topic': 'Exercises 3'},\n",
    "        # -----------------------------\n",
    "        {'day': 4, 'Topic': 'Discussion of Excercises 3'},\n",
    "        {'day': 4, 'Topic': \"String format\"},\n",
    "        {'day': 4, 'Topic': 'dicts'},\n",
    "        {'day': 4, 'Topic': 'itertools'},\n",
    "        # -----------------------------\n",
    "        {'day': 5, 'Topic': \"OOP\"},\n",
    "        # {'day': 3, 'Topic': 'data flow'},\n",
    "        {'day': 6, 'Topic': \"Basic Python package\"},\n",
    "        {'day': 6, 'Topic': \"Test Driven development\"},\n",
    "        {'day': 6, 'Topic': \"Auto documentation with Sphinx\"},\n",
    "        # -----------------------------\n",
    "    ]\n",
    ")\n",
    "\n",
    "\n",
    "def display_topics(day=1, df=None):\n",
    "    if df is None:\n",
    "        df = df_details\n",
    "    return df[df['day'] == day][['day', 'Topic']].head(20)\n"
   ]
  },
  {
   "cell_type": "code",
   "execution_count": null,
   "metadata": {
    "slideshow": {
     "slide_type": "notes"
    }
   },
   "outputs": [],
   "source": []
  },
  {
   "cell_type": "markdown",
   "metadata": {
    "slideshow": {
     "slide_type": "slide"
    }
   },
   "source": [
    "# Days 3\n",
    "## Overview"
   ]
  },
  {
   "cell_type": "code",
   "execution_count": null,
   "metadata": {},
   "outputs": [],
   "source": [
    "display_topics(day=3)"
   ]
  },
  {
   "cell_type": "markdown",
   "metadata": {
    "slideshow": {
     "slide_type": "slide"
    }
   },
   "source": [
    "# Discssion @ Excersises \n",
    "\n"
   ]
  },
  {
   "cell_type": "markdown",
   "metadata": {
    "slideshow": {
     "slide_type": "slide"
    }
   },
   "source": [
    "# A building block for excersises 1 & 2"
   ]
  },
  {
   "cell_type": "code",
   "execution_count": null,
   "metadata": {
    "slideshow": {
     "slide_type": "-"
    }
   },
   "outputs": [],
   "source": [
    "seqs = {}\n",
    "current_id = None\n",
    "current_seq = \"\"\n",
    "with open(\"../data/uniprot-filtered-proteome%3AUP000005640+AND+reviewed%3Ayes+AND+organism%3A%22Hom--.fasta\") as fasta_file:\n",
    "    for line in fasta_file:\n",
    "        if line.startswith(\">\"):\n",
    "            if current_id is not None:\n",
    "                seqs[current_id] = current_seq\n",
    "            current_seq = \"\"\n",
    "            current_id = line.strip()\n",
    "        else:\n",
    "            current_seq += line.strip()\n",
    "    seqs[current_id] = current_seq\n",
    "    "
   ]
  },
  {
   "cell_type": "markdown",
   "metadata": {
    "slideshow": {
     "slide_type": "slide"
    }
   },
   "source": [
    "# Eval building block for excersise 2"
   ]
  },
  {
   "cell_type": "code",
   "execution_count": null,
   "metadata": {},
   "outputs": [],
   "source": [
    "longest = None\n",
    "longest_sequence = -1 \n",
    "for identifier, sequence in seqs.items():\n",
    "    if len(sequence) > longest_sequence:\n",
    "        longest = identifier\n",
    "        longest_sequence = len(sequence)"
   ]
  },
  {
   "cell_type": "code",
   "execution_count": null,
   "metadata": {
    "slideshow": {
     "slide_type": "-"
    }
   },
   "outputs": [],
   "source": [
    "longest"
   ]
  },
  {
   "cell_type": "markdown",
   "metadata": {},
   "source": [
    "Say hello to [Titin](https://en.wikipedia.org/wiki/Titin) /Taitin/ "
   ]
  },
  {
   "cell_type": "markdown",
   "metadata": {},
   "source": []
  },
  {
   "cell_type": "code",
   "execution_count": null,
   "metadata": {},
   "outputs": [],
   "source": []
  },
  {
   "cell_type": "markdown",
   "metadata": {
    "slideshow": {
     "slide_type": "slide"
    }
   },
   "source": [
    "# Plotting with plotly\n",
    "\n",
    "Plotly is an interactive plotting library supporting many programming languages. Plotlys plots are based on javascript build on top of d3.js and stack.gl.\n",
    "\n",
    "Advantages comapred to ggplot, matplotlib (and derivitates, seaborn ..), bokeh, pygal are:\n",
    "* interactive (mouse over, zoom ...)\n",
    "* directly embeddable as html\n",
    "* realtime plots"
   ]
  },
  {
   "cell_type": "code",
   "execution_count": null,
   "metadata": {},
   "outputs": [],
   "source": [
    "# basic setup\n",
    "import plotly\n",
    "import plotly.graph_objs as go\n",
    "display(plotly.__version__)"
   ]
  },
  {
   "cell_type": "code",
   "execution_count": null,
   "metadata": {},
   "outputs": [],
   "source": []
  },
  {
   "cell_type": "code",
   "execution_count": null,
   "metadata": {},
   "outputs": [],
   "source": [
    "# reading our small amino acid data set\n",
    "# we will discuss pandas in the second week ...\n",
    "aa_df = pd.read_csv(\"../data/amino_acid_properties.csv\")"
   ]
  },
  {
   "cell_type": "code",
   "execution_count": null,
   "metadata": {
    "scrolled": true
   },
   "outputs": [],
   "source": [
    "aa_df.head()"
   ]
  },
  {
   "cell_type": "code",
   "execution_count": null,
   "metadata": {
    "slideshow": {
     "slide_type": "subslide"
    }
   },
   "outputs": [],
   "source": [
    "aa_df.tail()"
   ]
  },
  {
   "cell_type": "code",
   "execution_count": null,
   "metadata": {},
   "outputs": [],
   "source": [
    "aa_df.dropna(how=\"all\", inplace=True) # all means drop those that have NaN in every column\n",
    "aa_df.tail()"
   ]
  },
  {
   "cell_type": "code",
   "execution_count": null,
   "metadata": {
    "scrolled": false,
    "slideshow": {
     "slide_type": "slide"
    }
   },
   "outputs": [],
   "source": [
    "import plotly.graph_objects as go\n",
    "\n",
    "data = [\n",
    "    go.Bar(\n",
    "        x=aa_df[\"1-letter code\"],\n",
    "        y=aa_df.pka1\n",
    "    )\n",
    "]\n",
    "\n",
    "fig = go.Figure(data=data)\n",
    "fig.show()\n"
   ]
  },
  {
   "cell_type": "code",
   "execution_count": null,
   "metadata": {
    "slideshow": {
     "slide_type": "skip"
    }
   },
   "outputs": [],
   "source": [
    "import plotly.graph_objects as go\n",
    "\n",
    "data = [\n",
    "    go.Pie(\n",
    "        labels=aa_df[\"1-letter code\"],\n",
    "        values=aa_df[\"Accessible surface\"],\n",
    "        hole=0.3\n",
    "    )\n",
    "]\n",
    "\n",
    "fig = go.Figure(data=data)\n",
    "fig.show()\n",
    "\n"
   ]
  },
  {
   "cell_type": "code",
   "execution_count": null,
   "metadata": {
    "slideshow": {
     "slide_type": "skip"
    }
   },
   "outputs": [],
   "source": [
    "import numpy as np\n",
    "data = [\n",
    "    go.Scatter(\n",
    "        x=aa_df[\"1-letter code\"],\n",
    "        y=aa_df[\"pI\"],\n",
    "        mode=\"markers\",\n",
    "        marker={\n",
    "            \"size\": aa_df[\"Accessible surface\"]\n",
    "        }\n",
    "    )\n",
    "]\n",
    "\n",
    "fig = go.Figure(data=data)\n",
    "fig.show()"
   ]
  },
  {
   "cell_type": "code",
   "execution_count": null,
   "metadata": {
    "scrolled": false,
    "slideshow": {
     "slide_type": "slide"
    }
   },
   "outputs": [],
   "source": [
    "import plotly.graph_objects as go\n",
    "\n",
    "data = [\n",
    "    go.Bar(\n",
    "        x=aa_df[\"1-letter code\"],\n",
    "        y=aa_df.pka1\n",
    "    )\n",
    "]\n",
    "\n",
    "fig = go.Figure(\n",
    "    data=data,\n",
    "    layout={\n",
    "        \"title\": {\n",
    "            \"text\": \"amino acid pka1's\",\n",
    "            \"font_size\": 20\n",
    "        }\n",
    "    }\n",
    ")\n",
    "fig.show()\n"
   ]
  },
  {
   "cell_type": "code",
   "execution_count": null,
   "metadata": {
    "scrolled": false,
    "slideshow": {
     "slide_type": "slide"
    }
   },
   "outputs": [],
   "source": [
    "# works also with dot annotations\n",
    "data = [\n",
    "    go.Bar(\n",
    "        x=aa_df[\"1-letter code\"],\n",
    "        y=aa_df.pka1\n",
    "    )\n",
    "]\n",
    "\n",
    "fig = go.Figure(data=data)\n",
    "fig.layout.title.text = \"amino acid pka1's\"\n",
    "fig.layout.title.font.size = 40\n",
    "fig.show()\n",
    "# not quite consistent and api is still evolving"
   ]
  },
  {
   "cell_type": "code",
   "execution_count": null,
   "metadata": {
    "slideshow": {
     "slide_type": "slide"
    }
   },
   "outputs": [],
   "source": [
    "# works also with dot annotations\n",
    "data = [\n",
    "    go.Bar(\n",
    "        x=aa_df[\"1-letter code\"],\n",
    "        y=aa_df.pka1\n",
    "    )\n",
    "]\n",
    "\n",
    "fig = go.Figure(data=data)\n",
    "fig.layout.title.text = \"amino acid pka1's\"\n",
    "fig.layout.title.font.size = 40\n",
    "fig.data[0].marker.line.width = 5\n",
    "fig.data[0].marker.line.color = \"black\"\n",
    "fig.show()\n",
    "# not quite consistent and api is still evolving"
   ]
  },
  {
   "cell_type": "code",
   "execution_count": null,
   "metadata": {
    "slideshow": {
     "slide_type": "slide"
    }
   },
   "outputs": [],
   "source": [
    "# works also with dot annotations\n",
    "data = [\n",
    "    go.Bar(\n",
    "        x=aa_df[\"1-letter code\"],\n",
    "        y=aa_df.pka1,\n",
    "        hovertext=aa_df[\"Name\"]\n",
    "    )\n",
    "]\n",
    "\n",
    "fig = go.Figure(data=data)\n",
    "fig.layout.title.text = \"amino acid pka1's\"\n",
    "fig.layout.title.font.size = 30\n",
    "fig.data[0].marker.line.width = 5\n",
    "fig.data[0].marker.line.color = \"black\"\n",
    "fig.show()\n",
    "# not quite consistent and api is still evolving"
   ]
  },
  {
   "cell_type": "code",
   "execution_count": null,
   "metadata": {
    "scrolled": false,
    "slideshow": {
     "slide_type": "slide"
    }
   },
   "outputs": [],
   "source": [
    "# pio.templates.default = \"plotly\"\n",
    "\n",
    "data = [\n",
    "    go.Bar(\n",
    "        x=aa_df[\"1-letter code\"],\n",
    "        y=aa_df.pka1,\n",
    "        hovertext=aa_df[\"Name\"],\n",
    "        name=\"pka1\"\n",
    "    ),\n",
    "    go.Bar(\n",
    "        x=aa_df[\"1-letter code\"],\n",
    "        y=aa_df.pka2,\n",
    "        hovertext=aa_df[\"Name\"],\n",
    "        name=\"pka2\"\n",
    "    ),\n",
    "    go.Bar(\n",
    "        x=aa_df[\"1-letter code\"],\n",
    "        y=aa_df.pkaX,\n",
    "        hovertext=aa_df[\"Name\"],\n",
    "        name=\"pkaX\"\n",
    "    ),\n",
    "    go.Bar(\n",
    "        x=aa_df[\"1-letter code\"],\n",
    "        y=aa_df.pI,\n",
    "        hovertext=aa_df[\"Name\"],\n",
    "        name=\"pI\"\n",
    "    )\n",
    "\n",
    "]"
   ]
  },
  {
   "cell_type": "code",
   "execution_count": null,
   "metadata": {
    "scrolled": false,
    "slideshow": {
     "slide_type": "slide"
    }
   },
   "outputs": [],
   "source": [
    "layout = {\n",
    "    \"title\": {\n",
    "        \"text\": \"amino acid pks\",\n",
    "        \"font_family\": \"Courier\",\n",
    "        \"font_size\": 30,\n",
    "    },\n",
    "    \"plot_bgcolor\": \"rgba(0, 0, 0, 0)\",\n",
    "    \"yaxis\": {\n",
    "        \"showgrid\": True,\n",
    "        \"gridwidth\": 1,\n",
    "        \"gridcolor\": \"rgba(0, 0, 0, 0.2)\",\n",
    "        \"color\": \"rgba(0,0,0,1)\",\n",
    "        \"ticks\": \"outside\",\n",
    "        \"tickvals\": [1, 5, 10],\n",
    "        \"title\": {\n",
    "            \"text\": \"pka\",\n",
    "            \"font_family\": \"Courier\",\n",
    "        },\n",
    "        \"showline\": True,\n",
    "        \"linewidth\": 1,\n",
    "        \"linecolor\": \"black\",\n",
    "        \"mirror\": True,\n",
    "        \"type\": \"log\"\n",
    "    }\n",
    "}\n",
    "\n",
    "fig = go.Figure(data=data, layout=layout)\n",
    "fig.update_xaxes(showline=True, linewidth=1, linecolor=\"black\")\n",
    "# ^--- what happens if the order of the two lines are reversed\n",
    "\n",
    "fig.show()"
   ]
  },
  {
   "cell_type": "markdown",
   "metadata": {
    "slideshow": {
     "slide_type": "subslide"
    }
   },
   "source": [
    "more details about axis can be found [here](https://plot.ly/python/axes/)\n",
    "\n",
    "Plot examples can be found [here](https://plot.ly/python/)"
   ]
  },
  {
   "cell_type": "markdown",
   "metadata": {},
   "source": [
    "## Questions ?\n",
    "\n",
    "## Let's plot something\n",
    "\n",
    "Anyone go ahead, take the amino_acid_visualization and plot something!"
   ]
  },
  {
   "cell_type": "markdown",
   "metadata": {},
   "source": [
    "# Excersise No. 3\n",
    "* use a sliding window of size 5 to calculate the average hydropathy for each given position for each of those proteins:\n",
    "   * TMEM63B\n",
    "   * TM9SF\n",
    "   * MS4A1\n",
    "* Create a visualization for each protein: residue position vs average hydropathy index (slideing window, maybe even different sizes ?)\n",
    "\n",
    "Can you explain the observed average?\n"
   ]
  },
  {
   "cell_type": "code",
   "execution_count": null,
   "metadata": {},
   "outputs": [],
   "source": []
  }
 ],
 "metadata": {
  "celltoolbar": "Slideshow",
  "kernelspec": {
   "display_name": "Python 3",
   "language": "python",
   "name": "python3"
  },
  "language_info": {
   "codemirror_mode": {
    "name": "ipython",
    "version": 3
   },
   "file_extension": ".py",
   "mimetype": "text/x-python",
   "name": "python",
   "nbconvert_exporter": "python",
   "pygments_lexer": "ipython3",
   "version": "3.7.5"
  }
 },
 "nbformat": 4,
 "nbformat_minor": 2
}
