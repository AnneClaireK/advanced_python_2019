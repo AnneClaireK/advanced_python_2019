{
 "cells": [
  {
   "cell_type": "markdown",
   "metadata": {},
   "source": [
    "#Klausur lernen\n",
    "30.11.2019\n",
    "\n",
    "In der letzten Stunde:\n",
    "\n",
    "1. Recap:\n",
    "    - Type bei addition/ zusammenfügen von 2 Zahlen/ strings...\n",
    "    - \\[::-1\\] -> rückwärts ausgeben\n",
    "    - strings können nicht als item assignement gemacht werden\n",
    "    - string.split() function (trennt wörter)\n",
    "    - unhaschable type list\n",
    "    - set comparing set() & set ()\n",
    "    - True vs Real --> (Passwort beispiel)\n",
    "    - Mistakes using functions (3 nones)\n",
    "    - Readability rules (black)\n",
    "    \n",
    "\n",
    "2. TDD: Test driven development\n"
   ]
  },
  {
   "cell_type": "markdown",
   "metadata": {},
   "source": [
    "## 1. Recap \n",
    "(01_Recaps.ipynb)\n",
    "\n",
    "Python basic types:\n",
    "- int -> integer, einfache Zahl\n",
    "    - z.B. 4\n",
    "\n",
    "\n",
    "- float -> Zahl mit Komma \n",
    "    - bei kombination (+,-,*,...) mit int wird das resultat immer zu int\n",
    "    - z.B. 4.543\n",
    "\n",
    "\n",
    "- str -> Buchstaben mit Anführungsstrichen\n",
    "    - können addiert werden\n",
    "    - einzelne Buchstaben können aufgerufen werden via string\\[3\\] (achtung erster eintrag ist 0)\n",
    "    - ! via string\\[3\\] können einzelne Buchstaben NICHT überschrieben werden !\n",
    "    - Buchstaben können Rückwärts ausgegeben werden via \\[::-1\\]\n",
    "    - string.split(separator, maxsplit) trennt strings, default seperator ist Leerzeichen\n",
    "    - z.B. \"Hello World!\"\n"
   ]
  },
  {
   "cell_type": "code",
   "execution_count": null,
   "metadata": {},
   "outputs": [],
   "source": [
    "#int, float\n",
    "a = 34 + 3.2\n",
    "type(a)"
   ]
  },
  {
   "cell_type": "code",
   "execution_count": null,
   "metadata": {},
   "outputs": [],
   "source": [
    "#string\n",
    "a = \"Never odd\" + \" or even\"\n",
    "a[::-1]"
   ]
  },
  {
   "cell_type": "code",
   "execution_count": null,
   "metadata": {},
   "outputs": [],
   "source": [
    "a[0] = 'n'"
   ]
  },
  {
   "cell_type": "code",
   "execution_count": null,
   "metadata": {},
   "outputs": [],
   "source": [
    "a.split()"
   ]
  },
  {
   "cell_type": "markdown",
   "metadata": {},
   "source": [
    "- list -> Liste aus Objekten\n",
    "    - Liste kann aus verschiedenem shit bestehen\n",
    "    - iterable\n",
    "    - einträge können via list\\[3\\] aufgerufen & überschrieben werden\n",
    "    - z.B. \\[3.87, \"hey you\", 7, 876, \"fuck this\"\\]\n",
    "\n",
    "\n",
    "- tuple -> \"feste\" liste aus Objekten\n",
    "    - besteht aus verschiedenen obejecten bestehen\n",
    "    - können einzeln via tuple\\[3\\] aufgerufen werden\n",
    "    - Reinfolge und Einträge NICHT änderbar\n",
    "    - nicht so flexibel wie list \n",
    "    - mit runden Klammern geschrieben\n",
    "    - z.B. (\"apple\", \"banana\", \"cherry\", \"orange\")\n",
    "\n",
    "\n",
    "- set\n",
    "    - objecte die durch set(something) definiert werden\n",
    "    - something kann liste, gegenstand oder tuple? sein\n",
    "    - set operations sind SEHR schnell\n",
    "        - & : intersection (in beiden)\n",
    "        - | : union (beides zusammen, aber doppelte weg)\n",
    "        - - : difference (alles was nur im ersten set ist)\n",
    "        - ^ : symetric difference (nur in einer der beiden sets)\n",
    "     - z.B.    \n",
    "\n",
    "\n",
    "- dict -> dictionaries\n",
    "    - Liste an \"Pärchen\" von Objekten (\"key\":value)\n",
    "    - mit geschweiften Klammern definiert (auch via dict())\n",
    "    - ähnlich wie Listen (veränderbar, vergrößer-/ verkleinerbar, können inneinander verschachtelt sein)\n",
    "    - einzelnde Einträge via \"key\" aufrufen\n",
    "    - achtung key kann keine Liste sein\n",
    "    - z.B. set(\\[12, 13, 14\\]) & set(\\[13, 14, 15\\])"
   ]
  },
  {
   "cell_type": "code",
   "execution_count": 3,
   "metadata": {},
   "outputs": [
    {
     "data": {
      "text/plain": [
       "'cherry'"
      ]
     },
     "execution_count": 3,
     "metadata": {},
     "output_type": "execute_result"
    }
   ],
   "source": [
    "#tuple\n",
    "\n",
    "mytuple = (\"apple\", \"banana\", \"cherry\", 56)\n",
    "\n",
    "mytuple[2]\n",
    "\n",
    "mytuple[2] = \"otherfruit\"\n"
   ]
  },
  {
   "cell_type": "code",
   "execution_count": null,
   "metadata": {},
   "outputs": [],
   "source": [
    "#set\n",
    "\n",
    "set([12, 13, 14]) & set([13, 14, 15])"
   ]
  },
  {
   "cell_type": "code",
   "execution_count": 4,
   "metadata": {},
   "outputs": [
    {
     "ename": "SyntaxError",
     "evalue": "invalid syntax (<ipython-input-4-974c4e47a14c>, line 1)",
     "output_type": "error",
     "traceback": [
      "\u001b[1;36m  File \u001b[1;32m\"<ipython-input-4-974c4e47a14c>\"\u001b[1;36m, line \u001b[1;32m1\u001b[0m\n\u001b[1;33m    set([12, 13, 14]) !& set([13, 14, 15])\u001b[0m\n\u001b[1;37m                      ^\u001b[0m\n\u001b[1;31mSyntaxError\u001b[0m\u001b[1;31m:\u001b[0m invalid syntax\n"
     ]
    }
   ],
   "source": [
    "set([12, 13, 14]) !& set([13, 14, 15])"
   ]
  },
  {
   "cell_type": "code",
   "execution_count": 7,
   "metadata": {},
   "outputs": [
    {
     "data": {
      "text/plain": [
       "{12, 15}"
      ]
     },
     "execution_count": 7,
     "metadata": {},
     "output_type": "execute_result"
    }
   ],
   "source": [
    "set([12, 13, 14]) ^ set([13, 14, 15])"
   ]
  },
  {
   "cell_type": "code",
   "execution_count": 15,
   "metadata": {},
   "outputs": [
    {
     "data": {
      "text/plain": [
       "{32: 'Well done ... ', 'zweiter eintrag': 87544.3637, 'liste': [49, 38, 78]}"
      ]
     },
     "execution_count": 15,
     "metadata": {},
     "output_type": "execute_result"
    }
   ],
   "source": [
    "#dicts\n",
    "{32: \"Well done ... \", \"zweiter eintrag\":87544.3637, \"liste\": [49,38,78]}\n"
   ]
  },
  {
   "cell_type": "code",
   "execution_count": null,
   "metadata": {},
   "outputs": [],
   "source": [
    "{ [12,32]: \"Well done ... \"}\n",
    "\n",
    "#achtung key kann keine Liste sein"
   ]
  },
  {
   "cell_type": "markdown",
   "metadata": {},
   "source": [
    "Python comparisons\n",
    "\n",
    "- \\>\n",
    "- \\>=\n",
    "- ==\n",
    "- <=\n",
    "- <\n",
    "- is\n",
    "- is vs ==\n",
    "    - == : guckt nur ob das was im Objekt is gleich\n",
    "    - is : checkt ob das Objekt selbst das gleiche ist\n",
    "    - die release passwort function"
   ]
  },
  {
   "cell_type": "code",
   "execution_count": 48,
   "metadata": {},
   "outputs": [
    {
     "name": "stdout",
     "output_type": "stream",
     "text": [
      "a is b? False\n",
      "a == b True\n"
     ]
    }
   ],
   "source": [
    "# is vs ==\n",
    "\n",
    "a = \"Nature is lethal but it doesn't hold a candle to man.\"\n",
    "b = \"Nature is lethal but it doesn't hold a candle to man.\"\n",
    "print(\"a is b?\", a is b)\n",
    "print(\"a == b\", a == b)"
   ]
  },
  {
   "cell_type": "code",
   "execution_count": 20,
   "metadata": {},
   "outputs": [
    {
     "name": "stdout",
     "output_type": "stream",
     "text": [
      "Here is your pasword\n",
      "Here is your pasword\n",
      "Not authenticated\n",
      "Not authenticated\n"
     ]
    }
   ],
   "source": [
    "#release password\n",
    "\n",
    "def release_password_falsch(authentication=False):\n",
    "    answer = \"Not authenticated\"\n",
    "    if authentication:\n",
    "        answer = \"Here is your pasword\"\n",
    "    return answer\n",
    "\n",
    "def release_password_richtig(authentication=False):\n",
    "    answer = \"Not authenticated\"\n",
    "    if authentication == True:\n",
    "        answer = \"Here is your pasword\"\n",
    "    return answer\n",
    "\n",
    "print(release_password_falsch(authentication=True))\n",
    "print(release_password_falsch(authentication=[1]))\n",
    "print(release_password_falsch(authentication=[]))\n",
    "\n",
    "print(release_password_richtig(authentication=True))\n",
    "print(release_password_richtig(authentication=[1]))\n",
    "\n",
    "# thinking that objectes eval to the same ensures equality is one major source of errors (?)\n"
   ]
  },
  {
   "cell_type": "code",
   "execution_count": 49,
   "metadata": {},
   "outputs": [
    {
     "name": "stdout",
     "output_type": "stream",
     "text": [
      "fuuuuuck\n"
     ]
    }
   ],
   "source": [
    "#vorsicht if schleifen reagieren auch auf [1]\n",
    "\n",
    "eins = [1]\n",
    "if eins:\n",
    "    print(\"fuuuuuck\")"
   ]
  },
  {
   "cell_type": "code",
   "execution_count": 25,
   "metadata": {},
   "outputs": [
    {
     "name": "stdout",
     "output_type": "stream",
     "text": [
      "[] is True? False\n",
      "[1] is True? False\n",
      "[] == True? False\n",
      "[1] == True? False\n",
      "bool([]) == True? False\n",
      "bool([1]) == True? True\n",
      "bool([0]) == False? False\n",
      "bool([1]) is True? True\n",
      "1 == True? True\n",
      "1 is True? False\n"
     ]
    }
   ],
   "source": [
    "#aber [1] ist weder \"== True\" noch \"is True\", aber bool([1])\n",
    "\n",
    "print(\"[] is True?\", [] is True)\n",
    "print(\"[1] is True?\", [1] is True) \n",
    "\n",
    "print(\"[] == True?\", [] == True)\n",
    "print(\"[1] == True?\", [1] == True) \n",
    "\n",
    "print(\"bool([]) == True?\", bool([]) == True)\n",
    "print(\"bool([1]) == True?\", bool([1]) == True) \n",
    "\n",
    "print(\"bool([0]) == False?\", bool([0]) == False)\n",
    "print(\"bool([1]) is True?\", bool([1]) is True) \n",
    "\n",
    "#But!!!\n",
    "\n",
    "print(\"1 == True?\", 1 == True) \n",
    "print(\"1 is True?\", 1 is True) "
   ]
  },
  {
   "cell_type": "markdown",
   "metadata": {},
   "source": [
    "Membership oprators\n",
    "- in : ist etwas in etwas anderem (duh)\n",
    "    - immer 1 ObjeKt vs eine liste/ vielzahl\n",
    "    - cases sensitiv (bei strings)\n",
    "    - gibt bool aus\n",
    "\n",
    "\n",
    "Logical operators\n",
    "- or : Gibt True wenn auch nur eins True ist\n",
    "    - kann mit 2 oder mehr Objekten benutzt werden\n",
    "    - geht auch mit zahlen (gibt dann immer die erste zahl zurück, es sei denn die erste zahl ist 0...)"
   ]
  },
  {
   "cell_type": "code",
   "execution_count": 27,
   "metadata": {},
   "outputs": [
    {
     "name": "stdout",
     "output_type": "stream",
     "text": [
      "True\n",
      "False\n"
     ]
    }
   ],
   "source": [
    "#in\n",
    "\n",
    "print('dog' in ('d0g', 'dOg', 'dog', 'dot'))\n",
    "\n",
    "print('dog' in 'Not sure I went out with the dOg')"
   ]
  },
  {
   "cell_type": "code",
   "execution_count": 28,
   "metadata": {},
   "outputs": [
    {
     "name": "stdout",
     "output_type": "stream",
     "text": [
      "True\n",
      "1\n",
      "89\n",
      "3\n"
     ]
    }
   ],
   "source": [
    "#or\n",
    "\n",
    "print((1 is True) or (1 == True))\n",
    "\n",
    "print(1 or 3)\n",
    "print(89 or 3)\n",
    "print(0 or 3)\n"
   ]
  },
  {
   "cell_type": "markdown",
   "metadata": {},
   "source": [
    "Zen of Python\n",
    "\n",
    "Readability rules: PEP 8 \n",
    "-> check https://www.python.org/dev/peps/pep-0008/ hat beispiele\n",
    "\n",
    "black macht das alles automatisch..."
   ]
  },
  {
   "cell_type": "code",
   "execution_count": 47,
   "metadata": {},
   "outputs": [
    {
     "name": "stdout",
     "output_type": "stream",
     "text": [
      "The Zen of Python, by Tim Peters\n",
      "\n",
      "Beautiful is better than ugly.\n",
      "Explicit is better than implicit.\n",
      "Simple is better than complex.\n",
      "Complex is better than complicated.\n",
      "Flat is better than nested.\n",
      "Sparse is better than dense.\n",
      "Readability counts.\n",
      "Special cases aren't special enough to break the rules.\n",
      "Although practicality beats purity.\n",
      "Errors should never pass silently.\n",
      "Unless explicitly silenced.\n",
      "In the face of ambiguity, refuse the temptation to guess.\n",
      "There should be one-- and preferably only one --obvious way to do it.\n",
      "Although that way may not be obvious at first unless you're Dutch.\n",
      "Now is better than never.\n",
      "Although never is often better than *right* now.\n",
      "If the implementation is hard to explain, it's a bad idea.\n",
      "If the implementation is easy to explain, it may be a good idea.\n",
      "Namespaces are one honking great idea -- let's do more of those!\n"
     ]
    }
   ],
   "source": [
    "#zen of python: das vater unser der python nerds\n",
    "\n",
    "import this"
   ]
  },
  {
   "cell_type": "markdown",
   "metadata": {},
   "source": [
    "--> waren nicht in dem \"Tutorium\" notebook erwähnt\n",
    "\n",
    "Object reference\n",
    "\n",
    "List and generators\n",
    "\n",
    "Bisect module"
   ]
  },
  {
   "cell_type": "markdown",
   "metadata": {},
   "source": [
    "(02_Functions_and_zen.ipnb)\n",
    "\n",
    "\n",
    "- functions -> encapsulated code blocks\n",
    "    - makes code reusable\n",
    "    - can be documented (sphinx)\n",
    "    - can be tested (TDD)\n",
    "    - Goggle docstring Format (wichtig um später Documentation zu erstellen)\n",
    "\n",
    "\n",
    "- Dangerous mistakes using functions\n",
    "    - \"None\" function"
   ]
  },
  {
   "cell_type": "code",
   "execution_count": 30,
   "metadata": {},
   "outputs": [],
   "source": [
    "#Google docstring Format\n",
    "\n",
    "import hashlib\n",
    "def calculate_md5(string):\n",
    "    \"\"\"Calculate the md5 for a given string \\name\n",
    "    \n",
    "    Args: \n",
    "        string (str) string for which the md5 hex digest is calculated. \n",
    "            can be byte of string instance \\Erklärung zu den Argumenten\n",
    "        \n",
    "    Returns:\n",
    "        str: md5 hex digest \\Was zurück kommt\n",
    "    \"\"\"\n",
    "    m = hashlib.md5()\n",
    "    if isinstance(string, str):\n",
    "        m.update(string.encode(\"utf-8\"))\n",
    "    elif isinstance(string, bytes):\n",
    "        m.update(string)\n",
    "    else:\n",
    "        raise TypeError(\"This function supports only string input\")\n",
    "    return m.hexdigest()\n",
    "    "
   ]
  },
  {
   "cell_type": "code",
   "execution_count": 32,
   "metadata": {},
   "outputs": [
    {
     "data": {
      "text/plain": [
       "'671f4888cb99472cea6bc35c10388537'"
      ]
     },
     "execution_count": 32,
     "metadata": {},
     "output_type": "execute_result"
    }
   ],
   "source": [
    "calculate_md5(\"The path of the righteous man is beset on all sides by the iniquities of the selfish and the tyranny of evil men.\")"
   ]
  },
  {
   "cell_type": "code",
   "execution_count": 33,
   "metadata": {},
   "outputs": [
    {
     "data": {
      "text/plain": [
       "'671f4888cb99472cea6bc35c10388537'"
      ]
     },
     "execution_count": 33,
     "metadata": {},
     "output_type": "execute_result"
    }
   ],
   "source": [
    "calculate_md5(b\"The path of the righteous man is beset on all sides by the iniquities of the selfish and the tyranny of evil men.\")"
   ]
  },
  {
   "cell_type": "code",
   "execution_count": 35,
   "metadata": {},
   "outputs": [],
   "source": [
    "#THE none function\n",
    "\n",
    "def extend_list_with_three_none(input_list=[]):\n",
    "    \"\"\"Extend input_list with 3 * None\"\"\"\n",
    "    input_list += [None, None, None]\n",
    "    return input_list\n"
   ]
  },
  {
   "cell_type": "code",
   "execution_count": 36,
   "metadata": {},
   "outputs": [
    {
     "data": {
      "text/plain": [
       "['3', 2, 1, None, None, None]"
      ]
     },
     "execution_count": 36,
     "metadata": {},
     "output_type": "execute_result"
    }
   ],
   "source": [
    "extend_list_with_three_none(input_list=['3', 2 , 1])"
   ]
  },
  {
   "cell_type": "code",
   "execution_count": 41,
   "metadata": {},
   "outputs": [
    {
     "name": "stdout",
     "output_type": "stream",
     "text": [
      "[None, None, None, None, None, None, None, None, None, None, None, None]\n",
      "[None, None, None, None, None, None, None, None, None, None, None, None, None, None, None]\n"
     ]
    }
   ],
   "source": [
    "print(extend_list_with_three_none())\n",
    "print(extend_list_with_three_none()) #oh oh"
   ]
  },
  {
   "cell_type": "code",
   "execution_count": 44,
   "metadata": {},
   "outputs": [],
   "source": [
    "def extend_list_with_three_none_without_bug(input_list = None):\n",
    "    \"\"\"Extend input_list with 3 None\"\"\"\n",
    "    if input_list is None:\n",
    "        input_list = []\n",
    "    input_list += [None, None, None]\n",
    "    return input_list\n",
    "\n",
    "# so richtig: liste wird, falls input liste nicht von \n",
    "# uns definiert wurde, neu & leer definiert\n"
   ]
  },
  {
   "cell_type": "code",
   "execution_count": 45,
   "metadata": {},
   "outputs": [
    {
     "data": {
      "text/plain": [
       "['3', 2, 1, None, None, None]"
      ]
     },
     "execution_count": 45,
     "metadata": {},
     "output_type": "execute_result"
    }
   ],
   "source": [
    "extend_list_with_three_none_without_bug(input_list=['3', 2 , 1])"
   ]
  },
  {
   "cell_type": "code",
   "execution_count": 46,
   "metadata": {},
   "outputs": [
    {
     "name": "stdout",
     "output_type": "stream",
     "text": [
      "[None, None, None]\n",
      "[None, None, None]\n"
     ]
    }
   ],
   "source": [
    "print(extend_list_with_three_none_without_bug())\n",
    "print(extend_list_with_three_none_without_bug()) #YAAAS"
   ]
  },
  {
   "cell_type": "markdown",
   "metadata": {},
   "source": [
    "--> waren nicht in dem \"Tutorium\" notebook erwähnt\n",
    "\n",
    "The cvs module\n",
    "\n",
    "Collections \n",
    "- Counter -> gibt überblick über Objekt, zählt z.B. Buchstaben im string, resukt in dict form\n",
    "- collections.deque -> \"double\" ended queue\n",
    "- collections.defaultdicts -> erstellt leeres dict was mit gewünschter menge gefüllt werden kann\n",
    "\n",
    "Excersise 1 -> amino acid counting in human proteome (from Uniprot)\n",
    "\n",
    "Excersise 2 -> find extreme properties for amino acids\n",
    "\n",
    "Excersise 2b -> plot results\n",
    "\n",
    "(03_Plotly.ipynb)\n",
    "\n",
    "(04_itertool_dicts.ipynb)\n",
    "\n",
    "(05_Objects.ipynb)\n"
   ]
  },
  {
   "cell_type": "markdown",
   "metadata": {},
   "source": [
    "2. TDD: Test driven development\n",
    "(06_Test_driven_development.ipynb)"
   ]
  },
  {
   "cell_type": "markdown",
   "metadata": {},
   "source": [
    "- Ordnerstruktur für TDD:\n",
    "    - \"Projectname\" : Python Packet\n",
    "    - \"tests\" : unsere tests\n",
    "    - \"docs\" : documentation von Sphinx\n",
    "    - \"requirements.txt\"\n",
    "    - \"data\"\n",
    "\n",
    "\n",
    "- TDD hat 3 blocks:\n",
    "    1. Prototype:\n",
    "        - was willst du coden? Was ist deine Idee?\n",
    "        - schreib einen Test -> Test fails\n",
    "        - schreib den Code um, dass Test funktioniert\n",
    "        - -> funktionierender Prototyp\n",
    "    2. Product:\n",
    "        - schreib mehr Tests für verschiedene Fälle (synthetische Daten) und für Sonderfälle\n",
    "        - schreib den Code um, dass alle Tests funktionieren\n",
    "        - -> Reales Produkt\n",
    "    3. Master Stage\n",
    "        - Refactor den code (Refactoring: disciplined technique for restructuring an existing body of code, altering its internal structure without changing its external behavior)\n",
    "        - Passe den Code für die \"bigger picture\" an (z.B. Laufzeit, kompatibilität mit anderen funktionen...)\n",
    "        - Teste ob nach dem refactoring noch alle tests klappen\n",
    "-> Integriere alles in deine finales Package oder fang mit einer neuen Idee von vorne an!\n",
    "\n",
    "\n",
    "Warum ist das wichtig?\n",
    "\n",
    "- DENKE bevor du codest\n",
    "- schreibst tests befor du den eigentlichen Code schreibst -> hilft am Ende der Entwicklung\n",
    "- Du schreibst automatisch kleinere Funktionen die nur 1 ding machen (zen of Python)\n",
    "        "
   ]
  },
  {
   "cell_type": "markdown",
   "metadata": {},
   "source": [
    "Test driven development comes in three blocks.\n",
    "\n",
    "<img style=\"right\" src=\"./imgs/tdd_explained.png\" width=800>\n",
    "\n",
    "a) you start thinking about what you want to code, write a test that will fail and then start writing the code to make the test pass. At this stage you have a working prototype and leave the first block (blue dotted line)\n",
    "\n",
    "b) you will write more tests coverig forseeable corner cases. If the test fail you adjust your code. After the tests pass you will leave the second block behing having a real product with test. \n",
    "\n",
    "c) Finally you start refactoring your code into the bigger picture. The tests will give you confidence that nothing breaks while you refactor. This step becomes essential when you tackle a similar problem or consolidate fuctionality in your core package. At this stage you leave the third block. "
   ]
  },
  {
   "cell_type": "code",
   "execution_count": null,
   "metadata": {},
   "outputs": [],
   "source": [
    "#setup code\n",
    "\n",
    "%%writefile ../playground/__init__.py\n",
    "# __init__ py is required in a folder to be recognized as a python module otherwise the import statements won't work\n",
    "\n",
    "# lets load core into the name space as well\n",
    "from . import core"
   ]
  },
  {
   "cell_type": "code",
   "execution_count": null,
   "metadata": {},
   "outputs": [],
   "source": [
    "#Erstelle dir deine Workbench mit deinen tests\n",
    "\n",
    "%%writefile ../tests/test_core.py #wird jedes mal überschrieben\n",
    "\n",
    "import pytest\n",
    "import sys, os\n",
    "# This block is not neccessary if you instaled your package\n",
    "# using e.g. pip install -e\n",
    "sys.path.append(\n",
    "    os.path.abspath(\n",
    "        os.path.join(\n",
    "            os.path.dirname(__file__), # location of this file\n",
    "            os.pardir, # and one level up, in linux ../\n",
    "        )\n",
    "    )\n",
    ")\n",
    "# EOBlock\n",
    "\n",
    "import playground\n",
    "\n",
    "def test_find_peaks():\n",
    "    peaks = playground.core.find_peaks([0, 2, 1])\n",
    "    assert peaks == [2]  \n",
    "    \n",
    "def test_find_two_peaks():\n",
    "    peaks = playground.core.find_peaks([0, 2, 1, 0, 2, 1])\n",
    "    assert peaks == [2, 2] \n",
    "\n",
    "def test_find_peaks_max_edge():\n",
    "    peaks = playground.core.find_peaks([2, 1, 1])\n",
    "    assert peaks == [] \n",
    "    \n",
    "def test_find_peaks_empty_list():\n",
    "    peaks = playground.core.find_peaks([])\n",
    "    assert peaks == []\n",
    "    \n",
    "def test_colors_peak():\n",
    "    colors = playground.core.find_color_peaks([[253,58,58], [21,84,233], [26,29,34], [38,226,38]])\n",
    "    assert colors == [[26,29,34]]"
   ]
  },
  {
   "cell_type": "code",
   "execution_count": null,
   "metadata": {},
   "outputs": [],
   "source": [
    "#schreibe deine Funktionen in core.py\n",
    "\n",
    "%%writefile ../playground/core.py\n",
    "\n",
    "\n",
    "def find_peaks(list_of_intensities):\n",
    "    \"\"\"Find peaks\n",
    "\n",
    "    Find local maxima for a given list of intensities. \n",
    "    Intensities are defined as local maxima if the \n",
    "    intensities of the elements in the list before and after \n",
    "    are smaller than the peak we want to determine.\n",
    "\n",
    "    Args:\n",
    "        list_of_intensities (list of floats or ints): a list of\n",
    "            numeric values\n",
    "\n",
    "    Returns:\n",
    "        list of floats: list of the identified local maxima\n",
    "\n",
    "    Note:\n",
    "        This is just a place holder for the TDD part :)\n",
    "    \"\"\"\n",
    "    max_value = 0\n",
    "    list_of_maxima = []\n",
    "    for pos, element in enumerate(list_of_intensities):\n",
    "        if pos == 0:\n",
    "            continue\n",
    "        if pos == len(list_of_intensities) - 1:\n",
    "            continue\n",
    "        if list_of_intensities[pos - 1] < element > list_of_intensities[pos + 1]:\n",
    "            max_value = element\n",
    "            list_of_maxima.append(max_value)\n",
    "    return list_of_maxima\n",
    "\n",
    "def find_color_peaks(list_of_colors):\n",
    "    \"\"\"Find darker colors/peaks\n",
    "\n",
    "    Find black stripes for a given list of intensities. \n",
    "    Intensities are defined as local maxima if the \n",
    "    intensities of the elements in the list before and after \n",
    "    are smaller than the peak we want to determine.\n",
    "\n",
    "    Args:\n",
    "        list_of_colors (list of rgb ints): a list of\n",
    "            tupels\n",
    "\n",
    "    Returns:\n",
    "        list of floats: list of the identified local maxima\n",
    "\n",
    "    Note:\n",
    "        This is just a place holder for the TDD part :)\n",
    "    \"\"\"\n",
    "    max_value = 0\n",
    "    list_of_maxima = []\n",
    "    for pos, element in enumerate(list_of_colors):\n",
    "        if pos == 0:\n",
    "            continue\n",
    "        if pos == len(list_of_colors) - 1:\n",
    "            continue\n",
    "        if sum(list_of_colors[pos - 1]) > sum(element) < sum(list_of_colors[pos + 1]):\n",
    "            max_value = element\n",
    "            list_of_maxima.append(max_value)\n",
    "    return list_of_maxima\n"
   ]
  },
  {
   "cell_type": "code",
   "execution_count": null,
   "metadata": {},
   "outputs": [],
   "source": [
    "#teste alles\n",
    "\n",
    "!pytest ../tests/test_core.py"
   ]
  },
  {
   "cell_type": "markdown",
   "metadata": {},
   "source": [
    "--> waren nicht in dem \"Tutorium\" notebook erwähnt\n",
    "\n",
    "Sphinx: auto documentation\n",
    "\n",
    "(07_Pandas_intro.ipynb)\n",
    "\n",
    "(08_Pandas_and_coffee)"
   ]
  }
 ],
 "metadata": {
  "kernelspec": {
   "display_name": "Python 3",
   "language": "python",
   "name": "python3"
  },
  "language_info": {
   "codemirror_mode": {
    "name": "ipython",
    "version": 3
   },
   "file_extension": ".py",
   "mimetype": "text/x-python",
   "name": "python",
   "nbconvert_exporter": "python",
   "pygments_lexer": "ipython3",
   "version": "3.7.5"
  }
 },
 "nbformat": 4,
 "nbformat_minor": 2
}
