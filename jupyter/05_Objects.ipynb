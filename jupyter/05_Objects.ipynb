{
 "cells": [
  {
   "cell_type": "markdown",
   "metadata": {
    "slideshow": {
     "slide_type": "slide"
    }
   },
   "source": [
    "# Advanced Python Course \n",
    "## Mobi Heidelberg 2019\n",
    "### by Christian Fufezan \n",
    "\n",
    "christian@fufezan.net\n",
    "\n",
    "https://fufezan.net\n",
    "\n",
    "<img src=\"./imgs/cc.png\" alt=\"drawing\" width=\"200\" style=\"float: left;\"/>\n"
   ]
  },
  {
   "cell_type": "code",
   "execution_count": 32,
   "metadata": {
    "slideshow": {
     "slide_type": "notes"
    }
   },
   "outputs": [],
   "source": [
    "# %load topics.py\n",
    "import pandas as pd\n",
    "import psutil\n",
    "\n",
    "pd.set_option(\"display.max_colwidth\" , 300)\n",
    "\n",
    "df_high_level = pd.DataFrame(\n",
    "    data=[\n",
    "        {'day': 'Monday', 'Topic': 'Check-In, recaps and functions'},\n",
    "        {'day': 'Tuesday', 'Topic': 'Coding philosophy, data flow and some more useful std modules'},\n",
    "        {'day': 'Wednesday', 'Topic': 'Test driven development, python module, sphinx'},\n",
    "        {'day': 'Thursday', 'Topic': 'OOP - Object oriented programming'},\n",
    "        {'day': 'Friday', 'Topic': 'Q&A and code clean up'},\n",
    "        {'day': '', 'Topic': ''},\n",
    "        {'day': 'Monday', 'Topic': ''},\n",
    "        {'day': 'Tuesday', 'Topic': ''},\n",
    "        {'day': 'Wednesday', 'Topic': ''},\n",
    "        {'day': 'Thursday', 'Topic': ''},\n",
    "        {'day': 'Friday', 'Topic': 'Q&A and Tutorium'},\n",
    "\n",
    "\n",
    "    ]\n",
    ")\n",
    "\n",
    "df_details = pd.DataFrame(\n",
    "    data=[\n",
    "        {'day': 1, 'Topic': 'Check-in'},\n",
    "        {'day': 1, 'Topic': 'Procedural stuff'},\n",
    "        {'day': 1, 'Topic': \"python basic in 5'\"},\n",
    "        {'day': 1, 'Topic': 'lists and generators'},\n",
    "        {'day': 1, 'Topic': 'bisect module'},\n",
    "        # ----------------------------\n",
    "        {'day': 2, 'Topic': 'functions'},\n",
    "        {'day': 2, 'Topic': 'csv module'},\n",
    "        {'day': 2, 'Topic': 'Exercises'},\n",
    "        {'day': 2, 'Topic': 'Zen of Python and general coding philosophy'},\n",
    "        {'day': 2, 'Topic': 'basic plotting with plotly'},\n",
    "        {'day': 2, 'Topic': \"String format\"},\n",
    "        {'day': 2, 'Topic': 'dicts'},\n",
    "        {'day': 2, 'Topic': 'collections module'},\n",
    "        {'day': 2, 'Topic': 'itertools'},\n",
    "        {'day': 2, 'Topic': 'data flow'},\n",
    "        # -----------------------------\n",
    "        {'day': 3, 'Topic': \"Basic Python package\"},\n",
    "        {'day': 3, 'Topic': \"Test Driven development\"},\n",
    "        {'day': 3, 'Topic': \"Auto documentation with Sphinx\"},\n",
    "        # -----------------------------\n",
    "        {'day': 4, 'Topic': \"OOP\"},\n",
    "    ]\n",
    ")\n",
    "\n",
    "\n",
    "def display_topics(day=1, df=None):\n",
    "    if df is None:\n",
    "        df = df_details\n",
    "    return df[df['day'] == day][['day', 'Topic']].head(20)\n"
   ]
  },
  {
   "cell_type": "markdown",
   "metadata": {
    "slideshow": {
     "slide_type": "slide"
    }
   },
   "source": [
    "# Advanced Python - day 4\n",
    "by Christian Fufezan"
   ]
  },
  {
   "cell_type": "markdown",
   "metadata": {},
   "source": [
    "# Overview"
   ]
  },
  {
   "cell_type": "code",
   "execution_count": 33,
   "metadata": {},
   "outputs": [
    {
     "data": {
      "text/html": [
       "<div>\n",
       "<style scoped>\n",
       "    .dataframe tbody tr th:only-of-type {\n",
       "        vertical-align: middle;\n",
       "    }\n",
       "\n",
       "    .dataframe tbody tr th {\n",
       "        vertical-align: top;\n",
       "    }\n",
       "\n",
       "    .dataframe thead th {\n",
       "        text-align: right;\n",
       "    }\n",
       "</style>\n",
       "<table border=\"1\" class=\"dataframe\">\n",
       "  <thead>\n",
       "    <tr style=\"text-align: right;\">\n",
       "      <th></th>\n",
       "      <th>day</th>\n",
       "      <th>Topic</th>\n",
       "    </tr>\n",
       "  </thead>\n",
       "  <tbody>\n",
       "    <tr>\n",
       "      <td>18</td>\n",
       "      <td>4</td>\n",
       "      <td>OOP</td>\n",
       "    </tr>\n",
       "  </tbody>\n",
       "</table>\n",
       "</div>"
      ],
      "text/plain": [
       "    day Topic\n",
       "18    4   OOP"
      ]
     },
     "execution_count": 33,
     "metadata": {},
     "output_type": "execute_result"
    }
   ],
   "source": [
    "display_topics(day=4)"
   ]
  },
  {
   "cell_type": "markdown",
   "metadata": {
    "slideshow": {
     "slide_type": "slide"
    }
   },
   "source": [
    "In the first three days we have coded functions that encapsulate our code and that wrangle our data when  passed into our function. \n",
    "\n",
    "This is termed [procedural programming](https://en.wikipedia.org/wiki/Procedural_programming)  \n",
    "\n",
    "Python (and Java, C++, ...) is a object oriented programming language which adds a more natural level to programms. \n",
    "\n",
    "For example, instead of storing x, y, z coordinates in lists and then using these lists to calculate distances between two points in space, which could look like:\n",
    "``` python\n",
    "def calc_difference(x_coordinates, y_coordiantes, z_coordinates, index1=0, index2=1):\n",
    "    ...\n",
    "    return distance\n",
    "```\n",
    "\n",
    "it would be much more convenient to be able to \n",
    "``` python\n",
    "a = Point(x1, y1, z1)\n",
    "b = Point(x1, y1, z1)\n",
    "difference = a - b\n",
    "```"
   ]
  },
  {
   "cell_type": "markdown",
   "metadata": {},
   "source": [
    "Another view of object oriented programming is that we attach functions to a customized data container and define how this data container behaves."
   ]
  },
  {
   "cell_type": "markdown",
   "metadata": {
    "slideshow": {
     "slide_type": "subslide"
    }
   },
   "source": [
    "We call **classes** the blueprints of such customized data containers and **objects** initialized instances of a class. One can spawn many objects from one class, each of which will be unique. \n",
    "\n",
    "From the procedural prgramming, we used the terminology functions and variabels. In order to avoid confusion, functions that are associated to classes/objects are called **methods** and variables are calles **attributes** or **properties**."
   ]
  },
  {
   "cell_type": "code",
   "execution_count": 38,
   "metadata": {},
   "outputs": [
    {
     "data": {
      "text/plain": [
       "'Not implemented yet'"
      ]
     },
     "execution_count": 38,
     "metadata": {},
     "output_type": "execute_result"
    }
   ],
   "source": [
    "# one uses the class declaration for class names\n",
    "# quick reminder - PEP8! https://www.python.org/dev/peps/pep-0008/#class-names\n",
    "class Sequence(object):\n",
    "    def aa_distribution(self):\n",
    "        return \"Not implemented yet\"\n",
    "        # should raise NotImplementedError('!')\n",
    "\n",
    "s1 = Sequence()\n",
    "s1.aa_distribution()\n"
   ]
  },
  {
   "cell_type": "markdown",
   "metadata": {},
   "source": [
    "The *object* in the brackets refer to the parent class from which our Sequence class inherits its properties. Here object is not neccessary since all classes inhert from object to start with.\n",
    "\n",
    "We defined a new method **aa_distribution** which takes one argument **self**, this is always the case for functions (methods!) associated to objects. Think about it as passing the actual data container into our \"function\". "
   ]
  },
  {
   "cell_type": "markdown",
   "metadata": {
    "slideshow": {
     "slide_type": "slide"
    }
   },
   "source": [
    "## \\__init__\n",
    "One very importante method is **__init__** as it is called when a new instance is initialized.\n",
    "\n",
    "Note: methods starting and ending on two _ have special meanings in Python and should not be used in order to avoid collisions. They ar called **magic functions**"
   ]
  },
  {
   "cell_type": "code",
   "execution_count": 39,
   "metadata": {},
   "outputs": [
    {
     "data": {
      "text/plain": [
       "Counter({'W': 1, 'H': 1, 'E': 3, 'R': 1, 'I': 2, 'S': 2, 'L': 1, 'V': 1})"
      ]
     },
     "execution_count": 39,
     "metadata": {},
     "output_type": "execute_result"
    }
   ],
   "source": [
    "from collections import Counter\n",
    "\n",
    "class Sequence(object):\n",
    "    def __init__(self, sequence):\n",
    "        self.sequence = sequence\n",
    "        # we store the sequence that is used to \n",
    "        # initialize this object into self.sequence\n",
    "    \n",
    "    def aa_distribution(self):\n",
    "        return Counter(self.sequence) \n",
    "  \n",
    "s1 = Sequence(\"WHEREISELVIS\")\n",
    "s1.aa_distribution()"
   ]
  },
  {
   "cell_type": "markdown",
   "metadata": {
    "slideshow": {
     "slide_type": "slide"
    }
   },
   "source": [
    "Classes and their objects can each have methods and attributes. \n",
    "\n",
    "Class attributes can be used like:"
   ]
  },
  {
   "cell_type": "code",
   "execution_count": 40,
   "metadata": {},
   "outputs": [
    {
     "data": {
      "text/plain": [
       "13"
      ]
     },
     "execution_count": 40,
     "metadata": {},
     "output_type": "execute_result"
    }
   ],
   "source": [
    "from collections import Counter\n",
    "\n",
    "class Sequence(object):\n",
    "    \n",
    "    total_initialized_sequence = 0\n",
    "    \n",
    "    def __init__(self, sequence):\n",
    "        self.sequence = sequence\n",
    "        Sequence.total_initialized_sequence += 1\n",
    "        # every time a Sequence object is initialized, we increase\n",
    "        # the counter of the class attribute\n",
    "    \n",
    "    def aa_distribution(self):\n",
    "        return Counter(self.sequence)\n",
    "        # should raise \n",
    "\n",
    "for _ in range(13):\n",
    "    s1 = Sequence(\"AACCEE\")\n",
    "\n",
    "Sequence.total_initialized_sequence\n",
    "# ^-- note: we are refereing to the actual class Sequence and not the instance s1"
   ]
  },
  {
   "cell_type": "markdown",
   "metadata": {
    "slideshow": {
     "slide_type": "slide"
    }
   },
   "source": [
    "Methods that belong to the class are assiged by using a decorator"
   ]
  },
  {
   "cell_type": "code",
   "execution_count": 41,
   "metadata": {},
   "outputs": [
    {
     "name": "stdout",
     "output_type": "stream",
     "text": [
      "We have initialized 3 sequences\n"
     ]
    }
   ],
   "source": [
    "from collections import Counter\n",
    "\n",
    "class Sequence(object):\n",
    "    \n",
    "    total_initialized_sequence = 0\n",
    "    \n",
    "    def __init__(self, sequence):\n",
    "        self.sequence = sequence\n",
    "        Sequence.total_initialized_sequence += 1\n",
    "        # every time a Sequence object is initialized, we increase\n",
    "        # the counter of the class attribute\n",
    "    \n",
    "    def aa_distribution(self):\n",
    "        return Counter(self.sequence)\n",
    "        # should raise \n",
    "\n",
    "    @classmethod\n",
    "    def class_status(cls):\n",
    "        print(f\"We have initialized {Sequence.total_initialized_sequence} sequences\")\n",
    "        \n",
    "for _ in range(3):\n",
    "    s1 = Sequence(\"AACCEE\") \n",
    "\n",
    "Sequence.class_status()"
   ]
  },
  {
   "cell_type": "markdown",
   "metadata": {},
   "source": [
    "For the sake of readability - class methods argument is **cls** not **self**."
   ]
  },
  {
   "cell_type": "code",
   "execution_count": 7,
   "metadata": {},
   "outputs": [
    {
     "name": "stdout",
     "output_type": "stream",
     "text": [
      "We have initialized 3 sequences\n"
     ]
    }
   ],
   "source": [
    "# note: each class has this method as well, which is why defining classmethods\n",
    "#       is in IMHO not so useful ..\n",
    "s1.class_status()"
   ]
  },
  {
   "cell_type": "markdown",
   "metadata": {},
   "source": [
    "# more fun with class attributes"
   ]
  },
  {
   "cell_type": "code",
   "execution_count": 10,
   "metadata": {},
   "outputs": [
    {
     "data": {
      "text/plain": [
       "[<__main__.Sequence at 0x118097d10>,\n",
       " <__main__.Sequence at 0x118097550>,\n",
       " <__main__.Sequence at 0x118097e50>]"
      ]
     },
     "execution_count": 10,
     "metadata": {},
     "output_type": "execute_result"
    }
   ],
   "source": [
    "from collections import Counter\n",
    "\n",
    "class Sequence(object):\n",
    "    \n",
    "    all_intialized_sequences = []\n",
    "    \n",
    "    def __init__(self, sequence):\n",
    "        self.sequence = sequence\n",
    "        # we collect all intialized sequences in the class\n",
    "        self.all_intialized_sequences.append(self)\n",
    "            \n",
    "for _ in range(3):\n",
    "    s1 = Sequence(\"AACCEE\")\n",
    "\n",
    "Sequence.all_intialized_sequences"
   ]
  },
  {
   "cell_type": "markdown",
   "metadata": {
    "slideshow": {
     "slide_type": "slide"
    }
   },
   "source": [
    "## more magic functions"
   ]
  },
  {
   "cell_type": "markdown",
   "metadata": {},
   "source": [
    "## \\__str__\n",
    "making the object more descriptive"
   ]
  },
  {
   "cell_type": "code",
   "execution_count": 42,
   "metadata": {},
   "outputs": [],
   "source": [
    "class Sequence(object):\n",
    "    def __init__(self, sequence):\n",
    "        self.sequence = sequence\n",
    "\n",
    "    def __str__(self):\n",
    "        return \"Sequence class mobi-HD, length {0}, id {1}\".format(\n",
    "            len(self.sequence),\n",
    "            id(self)\n",
    "        )"
   ]
  },
  {
   "cell_type": "code",
   "execution_count": 43,
   "metadata": {
    "scrolled": true
   },
   "outputs": [
    {
     "name": "stdout",
     "output_type": "stream",
     "text": [
      "Sequence class mobi-HD, length 10, id 4359224720\n"
     ]
    }
   ],
   "source": [
    "s1 = Sequence(\"ELVISLIVES\")\n",
    "print(s1)"
   ]
  },
  {
   "cell_type": "markdown",
   "metadata": {
    "slideshow": {
     "slide_type": "subslide"
    }
   },
   "source": [
    "# \\__add__ \n",
    "allowing adding of objects"
   ]
  },
  {
   "cell_type": "code",
   "execution_count": 52,
   "metadata": {},
   "outputs": [],
   "source": [
    "class Sequence(object):\n",
    "    def __init__(self, sequence):\n",
    "        self.sequence = sequence\n",
    "        \n",
    "    def __str__(self):\n",
    "        return \"\"\"Sequence class mobi-HD, length {0}, id {1}, {2}\"\"\".format(\n",
    "            len(self.sequence),\n",
    "            id(self),\n",
    "            self.sequence\n",
    "        )\n",
    "\n",
    "    def add(self, other):\n",
    "        return self + other  \n",
    "    \n",
    "    def __add__(self, other):\n",
    "        new_sequence_obj = Sequence(self.sequence + other.sequence)\n",
    "        return new_sequence_obj\n",
    "  "
   ]
  },
  {
   "cell_type": "code",
   "execution_count": 71,
   "metadata": {},
   "outputs": [
    {
     "name": "stdout",
     "output_type": "stream",
     "text": [
      "Sequence class mobi-HD, length 5, id 4360087504, ELVIS\n",
      "Sequence class mobi-HD, length 5, id 4360034448, LIVES\n",
      "Sequence class mobi-HD, length 10, id 4360088528, ELVISLIVES\n",
      "Sequence class mobi-HD, length 15, id 4360086864, ELVISLIVESLIVES\n"
     ]
    }
   ],
   "source": [
    "s1 = Sequence(\"ELVIS\")\n",
    "s2 = Sequence(\"LIVES\")\n",
    "s3 = s1 + s2\n",
    "print(s1)\n",
    "print(s2)\n",
    "print(s3)\n",
    "s1 += s2\n",
    "print(s1.add(s2))\n"
   ]
  },
  {
   "cell_type": "markdown",
   "metadata": {
    "slideshow": {
     "slide_type": "subslide"
    }
   },
   "source": [
    "# Comparisons\n",
    "Often we want to sort objects stored in a list or check for equality.\n",
    "But what does it mean that sequence_1 \\< sequence_2 or sequence_1 == sequence_2 ?"
   ]
  },
  {
   "cell_type": "code",
   "execution_count": 72,
   "metadata": {},
   "outputs": [],
   "source": [
    "# answer is that we need to define magic functions that are called by Python internals \n",
    "# in order to eval equality or to sort. Minimum is __eq__ and __lt__, respectively.\n",
    "\n",
    "class Sequence(object):\n",
    "    def __init__(self, sequence):\n",
    "        self.sequence = sequence\n",
    "        \n",
    "    def __str__(self):\n",
    "        return self.sequence\n",
    "    \n",
    "    def __eq__(self, other):\n",
    "        return self.sequence == other.sequence\n",
    "    \n",
    "    def __lt__(self, other):\n",
    "        # return True if self < other\n",
    "        # I chose sequence length but it could equaliy be anything \n",
    "        # one can computer for both sequence ...\n",
    "        self_smaller = True\n",
    "        if len(self.sequence) >= len(other.sequence):\n",
    "            self_smaller = False\n",
    "        return self_smaller"
   ]
  },
  {
   "cell_type": "code",
   "execution_count": 100,
   "metadata": {
    "slideshow": {
     "slide_type": "subslide"
    }
   },
   "outputs": [
    {
     "name": "stdout",
     "output_type": "stream",
     "text": [
      "is s1 == s2 ? True\n",
      "is s1 != s3 ? True\n",
      "ELVISISDEAD\n",
      "ELVISLIVES\n",
      "ELVISLIVES\n"
     ]
    }
   ],
   "source": [
    "s1 = Sequence(\"ELVISLIVES\")\n",
    "s2 = Sequence(\"ELVISLIVES\")\n",
    "s3 = Sequence(\"ELVISISDEAD\")\n",
    " \n",
    "print(\"is s1 == s2 ?\", s1 == s2)\n",
    "print(\"is s1 != s3 ?\", s1 != s3)\n",
    "\n",
    "for sequence in sorted([s2, s3, s1], reverse=True):\n",
    "    print(sequence)"
   ]
  },
  {
   "cell_type": "markdown",
   "metadata": {},
   "source": [
    "Minimum set of magic functions that enables equality and sorting\n",
    "\\__eq__ for equality (and inequality) \n",
    "\\__lt__ for sorting (less than)\n",
    "\n",
    "For more possibilities see [python docu](https://docs.python.org/3/reference/datamodel.html#object.__lt__) (no need to know all of those for the exam)"
   ]
  },
  {
   "cell_type": "markdown",
   "metadata": {
    "slideshow": {
     "slide_type": "slide"
    }
   },
   "source": [
    "# Make our class iterable"
   ]
  },
  {
   "cell_type": "code",
   "execution_count": 90,
   "metadata": {},
   "outputs": [],
   "source": [
    "\n",
    "class Sequence(object):\n",
    "    def __init__(self, sequence):\n",
    "        self.sequence = sequence\n",
    "        self._current_iter_state = 0\n",
    "        \n",
    "    def __iter__(self):\n",
    "        self._current_iter_state = 0\n",
    "        return self\n",
    "    \n",
    "    def __next__(self):\n",
    "        \n",
    "        if self._current_iter_state < len(self.sequence):\n",
    "            current_aa = self.sequence[self._current_iter_state]\n",
    "            self._current_iter_state += 1\n",
    "            return current_aa\n",
    "        raise StopIteration\n"
   ]
  },
  {
   "cell_type": "code",
   "execution_count": 91,
   "metadata": {},
   "outputs": [
    {
     "name": "stdout",
     "output_type": "stream",
     "text": [
      "E\n",
      "L\n",
      "V\n",
      "I\n",
      "S\n",
      "I\n",
      "S\n",
      "D\n",
      "E\n",
      "A\n",
      "D\n"
     ]
    }
   ],
   "source": [
    "s3 = Sequence(\"ELVISISDEAD\")\n",
    "for aa in s3:\n",
    "    print(aa)\n",
    "# next(s3)"
   ]
  },
  {
   "cell_type": "code",
   "execution_count": 94,
   "metadata": {},
   "outputs": [
    {
     "name": "stdout",
     "output_type": "stream",
     "text": [
      "E\n",
      "L\n",
      "V\n",
      "I\n",
      "S\n",
      "I\n",
      "S\n",
      "D\n",
      "E\n",
      "A\n",
      "D\n"
     ]
    }
   ],
   "source": [
    "for aa in s3:\n",
    "    print(aa)"
   ]
  },
  {
   "cell_type": "markdown",
   "metadata": {
    "slideshow": {
     "slide_type": "subslide"
    }
   },
   "source": [
    "Again, what does it mean to iterate over our object ? Well it is on us to decide, why not iter over it using a sliding window ..."
   ]
  },
  {
   "cell_type": "code",
   "execution_count": 95,
   "metadata": {},
   "outputs": [],
   "source": [
    "from collections import deque\n",
    "class Sequence(object):\n",
    "    def __init__(self, sequence):\n",
    "        self.sequence = sequence   \n",
    "        \n",
    "    def __iter__(self):\n",
    "        self._current_iter_state = 0\n",
    "        self._sliding_window = deque([], maxlen=3)\n",
    "        return self\n",
    "    \n",
    "    def __next__(self):\n",
    "        if self._current_iter_state < len(self.sequence):\n",
    "            current_aa = self.sequence[self._current_iter_state]\n",
    "            self._sliding_window.append(current_aa)\n",
    "            self._current_iter_state += 1\n",
    "            return self._sliding_window\n",
    "        raise StopIteration"
   ]
  },
  {
   "cell_type": "code",
   "execution_count": 97,
   "metadata": {
    "scrolled": true
   },
   "outputs": [
    {
     "name": "stdout",
     "output_type": "stream",
     "text": [
      "deque(['E'], maxlen=3)\n",
      "deque(['E', 'L'], maxlen=3)\n",
      "deque(['E', 'L', 'V'], maxlen=3)\n",
      "deque(['L', 'V', 'I'], maxlen=3)\n",
      "deque(['V', 'I', 'S'], maxlen=3)\n",
      "deque(['I', 'S', 'I'], maxlen=3)\n",
      "deque(['S', 'I', 'S'], maxlen=3)\n",
      "deque(['I', 'S', 'D'], maxlen=3)\n",
      "deque(['S', 'D', 'E'], maxlen=3)\n",
      "deque(['D', 'E', 'A'], maxlen=3)\n",
      "deque(['E', 'A', 'D'], maxlen=3)\n"
     ]
    }
   ],
   "source": [
    "s3 = Sequence(\"ELVISISDEAD\")\n",
    "for aa in s3:\n",
    "    print(aa)"
   ]
  },
  {
   "cell_type": "markdown",
   "metadata": {
    "slideshow": {
     "slide_type": "slide"
    }
   },
   "source": [
    "## on demand - lazy loading et al. "
   ]
  },
  {
   "cell_type": "code",
   "execution_count": 102,
   "metadata": {},
   "outputs": [],
   "source": [
    "from collections import Counter\n",
    "\n",
    "class Sequence(object):\n",
    "    def __init__(self, sequence):\n",
    "        self.sequence = sequence\n",
    "        \n",
    "    def aa_distribution(self):\n",
    "        return Counter(self.sequence)\n",
    "        # Problem is that we calculate aa_distribution every time\n",
    "        # this method is called \n"
   ]
  },
  {
   "cell_type": "code",
   "execution_count": 103,
   "metadata": {},
   "outputs": [],
   "source": [
    "s1 = Sequence(\"ACGHCNASOINDQIEODHASDJALSKDJASDJ\" * 100)"
   ]
  },
  {
   "cell_type": "code",
   "execution_count": 104,
   "metadata": {},
   "outputs": [
    {
     "name": "stdout",
     "output_type": "stream",
     "text": [
      "166 ns ± 0.772 ns per loop (mean ± std. dev. of 7 runs, 10000000 loops each)\n"
     ]
    }
   ],
   "source": [
    "%timeit s1.aa_distribution()"
   ]
  },
  {
   "cell_type": "markdown",
   "metadata": {
    "slideshow": {
     "slide_type": "subslide"
    }
   },
   "source": [
    "To be fast, let's calculate distribution on demand and only if we have not done before ..."
   ]
  },
  {
   "cell_type": "code",
   "execution_count": 18,
   "metadata": {},
   "outputs": [],
   "source": [
    "from collections import Counter\n",
    "\n",
    "class Sequence(object):\n",
    "    def __init__(self, sequence):\n",
    "        self.sequence = sequence\n",
    "        self._aa_distribution = None\n",
    "    \n",
    "    def aa_distribution(self):\n",
    "        if self._aa_distribution is None:\n",
    "            self._aa_distribution = Counter(self.sequence)\n",
    "        return self._aa_distribution\n"
   ]
  },
  {
   "cell_type": "code",
   "execution_count": 16,
   "metadata": {},
   "outputs": [],
   "source": [
    "s1 = Sequence(\"ACGHCNASOINDQIEODHASDJALSKDJASDJ\" * 100)"
   ]
  },
  {
   "cell_type": "code",
   "execution_count": 20,
   "metadata": {},
   "outputs": [
    {
     "name": "stdout",
     "output_type": "stream",
     "text": [
      "156 ns ± 2.18 ns per loop (mean ± std. dev. of 7 runs, 10000000 loops each)\n"
     ]
    }
   ],
   "source": [
    "%timeit s1.aa_distribution()"
   ]
  },
  {
   "cell_type": "markdown",
   "metadata": {
    "slideshow": {
     "slide_type": "subslide"
    }
   },
   "source": [
    "## accessing properties that do calculations on demand "
   ]
  },
  {
   "cell_type": "code",
   "execution_count": 107,
   "metadata": {},
   "outputs": [],
   "source": [
    "# Very slow ...\n",
    "\n",
    "class Sequence(object):\n",
    "    def __init__(self, sequence):\n",
    "        self.sequence = sequence\n",
    "        self.aa_distribution = Counter(self.sequence)"
   ]
  },
  {
   "cell_type": "code",
   "execution_count": 108,
   "metadata": {},
   "outputs": [],
   "source": [
    "# on demand calculation, and if so then only once :)\n",
    "class Sequence(object):\n",
    "    def __init__(self, sequence):\n",
    "        self.sequence = sequence\n",
    "        self._aa_distribution = None\n",
    "        \n",
    "    @property\n",
    "    def aa_distribution(self):\n",
    "        if self._aa_distribution is None:\n",
    "            self._aa_distribution = Counter(self.sequence)\n",
    "        return self._aa_distribution"
   ]
  },
  {
   "cell_type": "code",
   "execution_count": 110,
   "metadata": {},
   "outputs": [],
   "source": [
    "# s1 = Sequence(\"ACGHCNASOINDQIEODHASDJALSKDJASDJ\" * 100)\n",
    "# s1.aa_distribution"
   ]
  },
  {
   "cell_type": "code",
   "execution_count": 95,
   "metadata": {},
   "outputs": [
    {
     "name": "stdout",
     "output_type": "stream",
     "text": [
      "158 ns ± 8.68 ns per loop (mean ± std. dev. of 7 runs, 10000000 loops each)\n"
     ]
    }
   ],
   "source": [
    "%timeit s1.aa_distribution"
   ]
  },
  {
   "cell_type": "markdown",
   "metadata": {
    "slideshow": {
     "slide_type": "slide"
    }
   },
   "source": [
    "# Object inheritance\n",
    "Another major advantage of OOP is that blue-print properties can be inherited, thus reducing code dupplication.\n",
    "\n",
    "Using inheritance can, however, also lead to complex data / class structure. Follow the Zen of Python! Not every method needs to have its own subclass\n",
    "\n",
    "Note: The parents constructor (\\__init__) is not called by default!"
   ]
  },
  {
   "cell_type": "code",
   "execution_count": 23,
   "metadata": {},
   "outputs": [],
   "source": [
    "class SequenceBaseClass:\n",
    "    def __init__(self, sequence):\n",
    "        self.sequence = sequence\n",
    "\n",
    "    def __add__(self, other):\n",
    "        new_sequence_obj = SequenceBaseClass(self.sequence + other.sequence)\n",
    "        return new_sequence_obj        \n",
    "\n",
    "    def __len__(self):\n",
    "        raise NotImplementedError(\n",
    "            \"If you inherit from SequenceBaseClass, \"\n",
    "            \"you must define len yourself\"\n",
    "            # Note: you can split strings to make it more readable\n",
    "        )\n",
    "    \n",
    "class Sequence(SequenceBaseClass):\n",
    "    def __init__(self, *args, **kwargs):\n",
    "        super().__init__(*args, **kwargs)\n",
    "    \n",
    "    def __len__(self):\n",
    "        return len(self.sequence)\n",
    "    \n",
    "    \n",
    "s1 = Sequence(\"SIRIFINDELVIS\")"
   ]
  },
  {
   "cell_type": "code",
   "execution_count": 24,
   "metadata": {},
   "outputs": [
    {
     "name": "stdout",
     "output_type": "stream",
     "text": [
      "SIRIFINDELVIS\n",
      "13\n"
     ]
    }
   ],
   "source": [
    "print(s1.sequence)\n",
    "print(len(s1))"
   ]
  },
  {
   "cell_type": "markdown",
   "metadata": {
    "slideshow": {
     "slide_type": "slide"
    }
   },
   "source": [
    "# Finally,\n",
    "We can check if an object is based on a given class by using:"
   ]
  },
  {
   "cell_type": "code",
   "execution_count": 25,
   "metadata": {},
   "outputs": [
    {
     "data": {
      "text/plain": [
       "True"
      ]
     },
     "execution_count": 25,
     "metadata": {},
     "output_type": "execute_result"
    }
   ],
   "source": [
    "isinstance(s1, Sequence)"
   ]
  },
  {
   "cell_type": "markdown",
   "metadata": {
    "slideshow": {
     "slide_type": "slide"
    }
   },
   "source": [
    "# Excersise No.5\n",
    "\n",
    "Rewrite your code from the earlier days based on a class that is a *Sequence* class that has a property called *pi* which returns the pi of the sequence.\n",
    "\n",
    "Create a list of objects, one for each sequence and sort the list by property pi\n"
   ]
  },
  {
   "cell_type": "markdown",
   "metadata": {},
   "source": [
    "# Excersise No. 6*\n",
    "Can you think of a way to turn a relative stringend property *average_hydropathy_index* to some method like calculate_property(type='hydropathy', sliding_window_size=5). Whereas type can be e.g. accessible surface (as) or hydropathy "
   ]
  },
  {
   "cell_type": "markdown",
   "metadata": {
    "slideshow": {
     "slide_type": "slide"
    }
   },
   "source": [
    "# Help - how to sort a list of objects based on some property ?\n"
   ]
  },
  {
   "cell_type": "code",
   "execution_count": 111,
   "metadata": {},
   "outputs": [],
   "source": [
    "class Sequence(object):\n",
    "    def __init__(self, sequence):\n",
    "        self.sequence = sequence\n",
    "        self._aa_distribution = None\n",
    "\n",
    "    def __repr__(self):\n",
    "        return self.sequence\n",
    "    \n",
    "    @property\n",
    "    def number_of_alanine(self):\n",
    "        return self.sequence.count('A')"
   ]
  },
  {
   "cell_type": "code",
   "execution_count": 112,
   "metadata": {},
   "outputs": [],
   "source": [
    "import random\n",
    "\n",
    "random_seqs = []\n",
    "for i in range(20):\n",
    "    r_seq = ''.join(random.choices('A_.,', k=random.randint(10,50)))\n",
    "    random_seqs.append(Sequence(r_seq))"
   ]
  },
  {
   "cell_type": "code",
   "execution_count": 113,
   "metadata": {},
   "outputs": [
    {
     "data": {
      "text/plain": [
       "[AAA.,A_.,_._.,.,,A,_.AAA_A_A,A,\n",
       " A__AAA.,.,._,A__,,,_AA_....,_A,.A,_.._A,A,.,\n",
       " ,.._A..,._,.A_,_A__...,..,.._,...A.A.A._,.,._,\n",
       " ,.,A._,,...,\n",
       " .,AA__,._,___A_,_..,,,,.,,_.,\n",
       " AAA,AAA,_.,A,._,_.___.__,A___AA.,AA,A_,._.A,.,,A,\n",
       " ,A__.,AA.A,,AAA.,A,___A__..__.A__.,\n",
       " AA,,._,_AA._.,_A.,,_,,,.,,\n",
       " AA_A...,.A,\n",
       " .,__.,._A,,A_,_.A__.,A...,,_,\n",
       " A,AA.___,A,___A_._.,___,,.,A,_.___,AA.,____,\n",
       " _A,,,,,._,,_,.A_,A,.,,..AA_.A,_,,,A.__.AA,A,A,,\n",
       " _,,,,__,,_,AA_A_,\n",
       " _,,_.,,A___.A_A.,,A_A._.,AA_.,\n",
       " A,_A_,A.__,_.,\n",
       " _,,,A,__.AA..A,\n",
       " ..A,._..A_A_.,\n",
       " ,_.AAAA_._..,A_,__,A,.A.,\n",
       " ..A,A,.____,_AA.A_...,,.AA__.,.A.,.,.,_.,\n",
       " A.,._AA,_AA,,..._,,__._]"
      ]
     },
     "execution_count": 113,
     "metadata": {},
     "output_type": "execute_result"
    }
   ],
   "source": [
    "random_seqs"
   ]
  },
  {
   "cell_type": "code",
   "execution_count": 114,
   "metadata": {
    "slideshow": {
     "slide_type": "slide"
    }
   },
   "outputs": [
    {
     "data": {
      "text/plain": [
       "[,.,A._,,...,\n",
       " .,AA__,._,___A_,_..,,,,.,,_.,\n",
       " _,,,,__,,_,AA_A_,\n",
       " A,_A_,A.__,_.,\n",
       " ..A,._..A_A_.,\n",
       " AA_A...,.A,\n",
       " .,__.,._A,,A_,_.A__.,A...,,_,\n",
       " _,,,A,__.AA..A,\n",
       " AA,,._,_AA._.,_A.,,_,,,.,,\n",
       " A.,._AA,_AA,,..._,,__._,\n",
       " ,.._A..,._,.A_,_A__...,..,.._,...A.A.A._,.,._,\n",
       " _,,_.,,A___.A_A.,,A_A._.,AA_.,\n",
       " ,_.AAAA_._..,A_,__,A,.A.,\n",
       " A,AA.___,A,___A_._.,___,,.,A,_.___,AA.,____,\n",
       " ..A,A,.____,_AA.A_...,,.AA__.,.A.,.,.,_.,\n",
       " ,A__.,AA.A,,AAA.,A,___A__..__.A__.,\n",
       " AAA.,A_.,_._.,.,,A,_.AAA_A_A,A,\n",
       " A__AAA.,.,._,A__,,,_AA_....,_A,.A,_.._A,A,.,\n",
       " _A,,,,,._,,_,.A_,A,.,,..AA_.A,_,,,A.__.AA,A,A,,\n",
       " AAA,AAA,_.,A,._,_.___.__,A___AA.,AA,A_,._.A,.,,A]"
      ]
     },
     "execution_count": 114,
     "metadata": {},
     "output_type": "execute_result"
    }
   ],
   "source": [
    "sorted(random_seqs, key=lambda x: x.number_of_alanine)"
   ]
  },
  {
   "cell_type": "code",
   "execution_count": null,
   "metadata": {},
   "outputs": [],
   "source": []
  }
 ],
 "metadata": {
  "celltoolbar": "Slideshow",
  "kernelspec": {
   "display_name": "Python 3",
   "language": "python",
   "name": "python3"
  },
  "language_info": {
   "codemirror_mode": {
    "name": "ipython",
    "version": 3
   },
   "file_extension": ".py",
   "mimetype": "text/x-python",
   "name": "python",
   "nbconvert_exporter": "python",
   "pygments_lexer": "ipython3",
   "version": "3.8.0"
  }
 },
 "nbformat": 4,
 "nbformat_minor": 2
}
