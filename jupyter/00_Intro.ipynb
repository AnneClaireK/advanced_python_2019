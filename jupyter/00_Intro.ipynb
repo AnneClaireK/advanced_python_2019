{
 "cells": [
  {
   "cell_type": "markdown",
   "metadata": {
    "slideshow": {
     "slide_type": "slide"
    }
   },
   "source": [
    "# Advanced Python Course \n",
    "## MoBi - University Heidelberg 2019\n",
    "### by Christian Fufezan \n",
    "\n",
    "christian@fufezan.net\n",
    "\n",
    "https://fufezan.net\n",
    "\n",
    "\n",
    "<img src=\"https://octodex.github.com/images/Professortocat_v2.png\" width=\"100\" height=\"100\" style=\"float: right;\"/>"
   ]
  },
  {
   "cell_type": "markdown",
   "metadata": {
    "slideshow": {
     "slide_type": "subslide"
    }
   },
   "source": [
    "## About me\n",
    "\n",
    "<img style=\"right\" src=\"./imgs/christian_fufezan.jpg\">\n",
    "\n",
    "christian@fufezan.net\n",
    "\n",
    "https://fufezan.net\n",
    "\n",
    "History:\n",
    "* Studied Math & Chemistry to become a teacher - stopped after Zwischenprüfung\n",
    "* Studied Biology with focus on Biochemistry - Diplom\n",
    "* PhD in Biophysics in Paris with strong elements of molecular biology and Biochemistry\n",
    "* PostDoc in New York diving into Structural Bioinformatics - first contacts with Python  \n",
    "* Habilitation in Münster around Reactive oxygen species in Photosynthesis and Computational Mass Spectrometry\n",
    "\n",
    "Current:\n",
    "* Head of Computational Mass Spectrometry Unit @ Cellome - a GSK Company - Heidelberg\n",
    "* Associate to the Biology Faculty University Heidelberg \n",
    "\n"
   ]
  },
  {
   "cell_type": "markdown",
   "metadata": {
    "slideshow": {
     "slide_type": "slide"
    }
   },
   "source": [
    "# Requirements\n",
    "\n",
    "* Unix like OS\n",
    "* Python3.6+\n",
    "* virtualenvwrapper\n",
    "* git\n",
    "* slack - \n",
    "* github account\n",
    "* google account"
   ]
  },
  {
   "cell_type": "markdown",
   "metadata": {
    "slideshow": {
     "slide_type": "subslide"
    }
   },
   "source": [
    "# Procedual stuff\n",
    "## Proceedings\n",
    "\n",
    "* First time I teach this course like this, so don't worry :)\n",
    "* It doesn't matter if we do manage to get through the material, as long everyone is getting something out of this class\n",
    "* We are going to have polls and anonymous feedback, so we can steer this course together and make the next one better :)\n",
    "* We are going through exercises in the beginning of each day, if needed\n",
    "\n",
    "## Exams\n",
    "\n",
    "Basic Python course and Advanced Python course will write their own exams, yet together and both exams should give same oppertunities for students to achieve good grades.  \n",
    "\n",
    "This means that I cannot tell you what the material of the exam will be but we will define on fridays what are the exam relevant things covered in the week. I will try to teach you as much as I can while not making it for you impossible to memorize everything for the exam."
   ]
  },
  {
   "cell_type": "markdown",
   "metadata": {
    "slideshow": {
     "slide_type": "slide"
    }
   },
   "source": [
    "# Check-in"
   ]
  },
  {
   "cell_type": "markdown",
   "metadata": {
    "slideshow": {
     "slide_type": "-"
    }
   },
   "source": [
    "## Python Scripts, jupyter and basic interpreter \n",
    "\n",
    "### Scripts\n",
    "Open a text editor, create a file *hello_world.py* and paste the following text into it\n",
    "``` python\n",
    "#!/usr/bin/env python3\n",
    "print(\"Hellö world!\")\n",
    "```\n",
    "\n",
    "This script can be executed by typing the following your terminal\n",
    "``` bash\n",
    "$ python3 hello_world.py\n",
    "```\n",
    "\n",
    "or by making the script executable and running it as standalone. This requires a Shebang line (line 1) in order to work, so the system knows how to interpret the text file. So\n",
    "``` bash\n",
    "$ chmod +x hello_world.py\n",
    "$ ./hello_world.py\n",
    "```\n",
    "gives the same result :) \n",
    "\n",
    "(ok might be different under windows, but make you self a favour and dont develop code under windows)"
   ]
  },
  {
   "cell_type": "markdown",
   "metadata": {
    "slideshow": {
     "slide_type": "subslide"
    }
   },
   "source": [
    "### Interpreter\n",
    "One can get into the basic Python interpreter by typing python3 on the command line. There are ways to pimp the regular interpreter, if you use more frequently I would suggest to use ipython. I use the regular interpreter for quick tests, e.g.\n",
    "\n",
    "```bash\n",
    "$ python3 -c \"import math;print(13.37 * math.pi)\"\n",
    "42.00309377849553\n",
    "```"
   ]
  },
  {
   "cell_type": "markdown",
   "metadata": {
    "slideshow": {
     "slide_type": "subslide"
    }
   },
   "source": [
    "## Virtualenvwrapper\n",
    "\n",
    "as the name suggests, virtualenvwrapper is a wrapper around Ian Bicking’s virtualenv! The wrapper helps to setup new or remove old environments.  \n",
    "\n",
    "A virtual environment is really convientient way of controlling not only the packages that are installed and thus are used in a given environment but also allows to have different python version attached to them. Additionally, package installation does not require root access but the installation lives in the user space.\n",
    "\n",
    "Please go to the [virtual env wrapper site](https://virtualenvwrapper.readthedocs.io/en/latest/) and follow the installation instruction. \n",
    "\n",
    "Then, cd into a directory you want to use for this course and build a new virtualenv with \n",
    "```bash\n",
    "$ mkvirtualenv -a . advanced_python \n",
    "```\n",
    "\n",
    "optionally add **-p python3.7** if you have multiple version of python installed and python3.7 is not default.\n",
    "\n",
    "to choose your virtualenv and activate it type\n",
    "```bash\n",
    "$ workon advanced_python\n",
    "```\n",
    "and to deactive it type \n",
    "```bash\n",
    "$ deactivate\n",
    "```\n",
    "you can quickly go to the site-packages (where python packages are installed) by typing\n",
    "```bash\n",
    "$ cdsitepackages\n",
    "```"
   ]
  },
  {
   "cell_type": "markdown",
   "metadata": {
    "slideshow": {
     "slide_type": "subslide"
    }
   },
   "source": [
    "\n",
    "### Jupyter\n",
    "Jupyter notebooks (or ipython) offer a good possibility to prototype and test snippets of code. \n",
    "\n",
    "**Con** is however, that depending on the order execution of the jupyter cells confusion and complication can arise. Thus, choose your variable names wiseliy.\n",
    "\n",
    "To install and use Jupyter (best practise to have your project in a virtualenv!):\n",
    "```bash\n",
    "$ pip3 install jupyter\n",
    "$ jupyter notebook\n",
    "```\n",
    "\n",
    "Note: one can access the jupyter server also remotely, ie if you run the notebook on a powerful server, you can access it from your laptop, if you know the ip address of the server, the token and if the servers firewall allows access to the given jupyter port. Token and port are displayed upon jupyter startup. Port number might vary depending on the number of jupyter instances running on the machine.\n",
    "\n",
    "### Jupyter labs\n",
    "Jupyter labs is the newest product from the jupyter folks and it reached version 1.0 this June so it is a vaiable alternative.\n",
    "\n",
    "To install and use Jupyter labs:\n",
    "``` bash\n",
    "$ pip3 install jupyterlab\n",
    "$ jupyter lab\n",
    "```"
   ]
  },
  {
   "cell_type": "code",
   "execution_count": 4,
   "metadata": {
    "scrolled": true,
    "slideshow": {
     "slide_type": "subslide"
    }
   },
   "outputs": [
    {
     "name": "stdout",
     "output_type": "stream",
     "text": [
      "00_Intro.ipynb         02_.slides.html        \u001b[1m\u001b[34mimgs\u001b[m\u001b[m/\r\n",
      "01_.ipynb              03_.ipynb              rise.css\r\n",
      "01_.slides.html        04_Objects.ipynb       temp-plot.html\r\n",
      "01b_.ipynb             05_Pandas_intro.ipynb  topics.py\r\n",
      "02_.ipynb              aa_git.ipynb           zz_playground.ipynb\r\n"
     ]
    }
   ],
   "source": [
    "# some useful magic commands for ipython, jupyter, jupyter labs\n",
    "%ls"
   ]
  },
  {
   "cell_type": "code",
   "execution_count": null,
   "metadata": {
    "scrolled": true,
    "slideshow": {
     "slide_type": "subslide"
    }
   },
   "outputs": [],
   "source": [
    "!pip install pandas"
   ]
  },
  {
   "cell_type": "code",
   "execution_count": 3,
   "metadata": {
    "slideshow": {
     "slide_type": "subslide"
    }
   },
   "outputs": [
    {
     "name": "stdout",
     "output_type": "stream",
     "text": [
      "174 ns ± 1.03 ns per loop (mean ± std. dev. of 7 runs, 10000000 loops each)\n"
     ]
    }
   ],
   "source": [
    "%timeit range(10)"
   ]
  },
  {
   "cell_type": "markdown",
   "metadata": {
    "slideshow": {
     "slide_type": "subslide"
    }
   },
   "source": [
    "more can be found [here](https://ipython.readthedocs.io/en/stable/interactive/magics.html)"
   ]
  },
  {
   "cell_type": "code",
   "execution_count": null,
   "metadata": {},
   "outputs": [],
   "source": []
  }
 ],
 "metadata": {
  "celltoolbar": "Slideshow",
  "kernelspec": {
   "display_name": "Python 3",
   "language": "python",
   "name": "python3"
  },
  "language_info": {
   "codemirror_mode": {
    "name": "ipython",
    "version": 3
   },
   "file_extension": ".py",
   "mimetype": "text/x-python",
   "name": "python",
   "nbconvert_exporter": "python",
   "pygments_lexer": "ipython3",
   "version": "3.7.5"
  }
 },
 "nbformat": 4,
 "nbformat_minor": 2
}
